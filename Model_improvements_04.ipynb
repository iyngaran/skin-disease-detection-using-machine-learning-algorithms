{
  "nbformat": 4,
  "nbformat_minor": 0,
  "metadata": {
    "colab": {
      "provenance": [],
      "toc_visible": true,
      "include_colab_link": true
    },
    "kernelspec": {
      "name": "python3",
      "display_name": "Python 3"
    },
    "language_info": {
      "name": "python"
    },
    "accelerator": "GPU"
  },
  "cells": [
    {
      "cell_type": "markdown",
      "metadata": {
        "id": "view-in-github",
        "colab_type": "text"
      },
      "source": [
        "<a href=\"https://colab.research.google.com/github/iyngaran/skin-disease-detection-using-machine-learning-algorithms/blob/master/Model_improvements_04.ipynb\" target=\"_parent\"><img src=\"https://colab.research.google.com/assets/colab-badge.svg\" alt=\"Open In Colab\"/></a>"
      ]
    },
    {
      "cell_type": "markdown",
      "source": [
        "# Model Improvement - 01\n",
        "\n",
        "Change the target_size to 180 x 180"
      ],
      "metadata": {
        "id": "l2ELgvdNDYG-"
      }
    },
    {
      "cell_type": "code",
      "execution_count": 1,
      "metadata": {
        "id": "r80msvVrC_qT",
        "colab": {
          "base_uri": "https://localhost:8080/"
        },
        "outputId": "6de0cae5-ed06-4b84-d35c-f86a87e03e68"
      },
      "outputs": [
        {
          "output_type": "stream",
          "name": "stdout",
          "text": [
            "--2022-09-26 13:49:41--  https://testing.idev55.com/lesion-diagnosis-images.zip\n",
            "Resolving testing.idev55.com (testing.idev55.com)... 3.84.41.34\n",
            "Connecting to testing.idev55.com (testing.idev55.com)|3.84.41.34|:443... connected.\n",
            "HTTP request sent, awaiting response... 200 OK\n",
            "Length: 2529414732 (2.4G) [application/zip]\n",
            "Saving to: ‘lesion-diagnosis-images.zip’\n",
            "\n",
            "lesion-diagnosis-im 100%[===================>]   2.36G  12.6MB/s    in 3m 18s  \n",
            "\n",
            "2022-09-26 13:53:00 (12.2 MB/s) - ‘lesion-diagnosis-images.zip’ saved [2529414732/2529414732]\n",
            "\n"
          ]
        }
      ],
      "source": [
        "# Download images of lesion diagnosis\n",
        "import zipfile\n",
        "\n",
        "!wget  https://testing.idev55.com/lesion-diagnosis-images.zip\n",
        "\n",
        "# Unzip the downloaded file\n",
        "zip_file = zipfile.ZipFile(\"lesion-diagnosis-images.zip\", \"r\")\n",
        "zip_file.extractall()\n",
        "zip_file.close()"
      ]
    },
    {
      "cell_type": "code",
      "source": [
        "!mv 'Lesion diagnosis' lesion-diagnosis"
      ],
      "metadata": {
        "id": "XUPH6bn_nlQ8"
      },
      "execution_count": 2,
      "outputs": []
    },
    {
      "cell_type": "code",
      "source": [
        "!ls"
      ],
      "metadata": {
        "colab": {
          "base_uri": "https://localhost:8080/"
        },
        "id": "yZjZRvqSn6Kf",
        "outputId": "a7b8468d-6ce3-4814-8dd0-23321a387e71"
      },
      "execution_count": 3,
      "outputs": [
        {
          "output_type": "stream",
          "name": "stdout",
          "text": [
            "lesion-diagnosis  lesion-diagnosis-images.zip  __MACOSX  sample_data\n"
          ]
        }
      ]
    },
    {
      "cell_type": "code",
      "source": [
        "!ls lesion-diagnosis"
      ],
      "metadata": {
        "colab": {
          "base_uri": "https://localhost:8080/"
        },
        "id": "7kCfb3u3oPi7",
        "outputId": "67ca6d46-6edb-41c4-f732-eb7082123f2c"
      },
      "execution_count": 4,
      "outputs": [
        {
          "output_type": "stream",
          "name": "stdout",
          "text": [
            "images\n"
          ]
        }
      ]
    },
    {
      "cell_type": "code",
      "source": [
        "!ls lesion-diagnosis/images"
      ],
      "metadata": {
        "colab": {
          "base_uri": "https://localhost:8080/"
        },
        "id": "DL4_f1X3oUWx",
        "outputId": "e4b4fda4-be07-4715-dd25-86aac0bc07ba"
      },
      "execution_count": 5,
      "outputs": [
        {
          "output_type": "stream",
          "name": "stdout",
          "text": [
            "all-images  test  train\n"
          ]
        }
      ]
    },
    {
      "cell_type": "code",
      "source": [
        "!ls lesion-diagnosis/images/train"
      ],
      "metadata": {
        "colab": {
          "base_uri": "https://localhost:8080/"
        },
        "id": "JYzALa7DoY-T",
        "outputId": "8af24f05-fcc8-42a4-d1aa-0035e16212e8"
      },
      "execution_count": 6,
      "outputs": [
        {
          "output_type": "stream",
          "name": "stdout",
          "text": [
            "'actinic keratosis'\t melanoma  'pigmented benign keratosis'\n",
            "'basal cell carcinoma'\t nevus\t   'seborrheic keratosis'\n"
          ]
        }
      ]
    },
    {
      "cell_type": "code",
      "source": [
        "!mv lesion-diagnosis/images/train/'actinic keratosis' lesion-diagnosis/images/train/actinic-keratosis\n",
        "!mv lesion-diagnosis/images/train/'pigmented benign keratosis' lesion-diagnosis/images/train/pigmented-benign-keratosis\n",
        "!mv lesion-diagnosis/images/train/'basal cell carcinoma' lesion-diagnosis/images/train/basal-cell-carcinoma\n",
        "!mv lesion-diagnosis/images/train/'seborrheic keratosis' lesion-diagnosis/images/train/seborrheic-keratosis\n",
        "\n",
        "!mv lesion-diagnosis/images/test/'actinic keratosis' lesion-diagnosis/images/test/actinic-keratosis\n",
        "!mv lesion-diagnosis/images/test/'pigmented benign keratosis' lesion-diagnosis/images/test/pigmented-benign-keratosis\n",
        "!mv lesion-diagnosis/images/test/'basal cell carcinoma' lesion-diagnosis/images/test/basal-cell-carcinoma\n",
        "!mv lesion-diagnosis/images/test/'seborrheic keratosis' lesion-diagnosis/images/test/seborrheic-keratosis"
      ],
      "metadata": {
        "id": "2BqyYE_Qodga"
      },
      "execution_count": 7,
      "outputs": []
    },
    {
      "cell_type": "code",
      "source": [
        "!ls lesion-diagnosis/images/train"
      ],
      "metadata": {
        "colab": {
          "base_uri": "https://localhost:8080/"
        },
        "id": "9da0Wo5rqgIu",
        "outputId": "ee545ad7-f7a8-4d33-a5e9-53f3e85a2e59"
      },
      "execution_count": 8,
      "outputs": [
        {
          "output_type": "stream",
          "name": "stdout",
          "text": [
            "actinic-keratosis     melanoma\tpigmented-benign-keratosis\n",
            "basal-cell-carcinoma  nevus\tseborrheic-keratosis\n"
          ]
        }
      ]
    },
    {
      "cell_type": "code",
      "source": [
        "!ls lesion-diagnosis/images/test"
      ],
      "metadata": {
        "colab": {
          "base_uri": "https://localhost:8080/"
        },
        "id": "mY17BT20rYSo",
        "outputId": "23bb8cd5-ca82-4ab0-b0ae-e3c6b7635c60"
      },
      "execution_count": 9,
      "outputs": [
        {
          "output_type": "stream",
          "name": "stdout",
          "text": [
            "actinic-keratosis     melanoma\tpigmented-benign-keratosis\n",
            "basal-cell-carcinoma  nevus\tseborrheic-keratosis\n"
          ]
        }
      ]
    },
    {
      "cell_type": "code",
      "source": [
        "!ls lesion-diagnosis/images/train/actinic-keratosis"
      ],
      "metadata": {
        "colab": {
          "base_uri": "https://localhost:8080/"
        },
        "id": "K1bsArwIq1JP",
        "outputId": "e7917341-4d16-4ac0-c104-cd7514f2acf0"
      },
      "execution_count": 10,
      "outputs": [
        {
          "output_type": "stream",
          "name": "stdout",
          "text": [
            "ISIC_0032404.JPG  ISIC_0058640.JPG  ISIC_0063883.JPG  ISIC_0069195.JPG\n",
            "ISIC_0032422.JPG  ISIC_0058653.JPG  ISIC_0063890.JPG  ISIC_0069211.JPG\n",
            "ISIC_0032437.JPG  ISIC_0058756.JPG  ISIC_0063927.JPG  ISIC_0069265.JPG\n",
            "ISIC_0032854.JPG  ISIC_0058762.JPG  ISIC_0063956.JPG  ISIC_0069269.JPG\n",
            "ISIC_0033151.JPG  ISIC_0058769.JPG  ISIC_0064022.JPG  ISIC_0069282.JPG\n",
            "ISIC_0033358.JPG  ISIC_0058776.JPG  ISIC_0064063.JPG  ISIC_0069283.JPG\n",
            "ISIC_0033413.JPG  ISIC_0058864.JPG  ISIC_0064067.JPG  ISIC_0069289.JPG\n",
            "ISIC_0033456.JPG  ISIC_0058884.JPG  ISIC_0064151.JPG  ISIC_0069352.JPG\n",
            "ISIC_0033494.JPG  ISIC_0058890.JPG  ISIC_0064196.JPG  ISIC_0069384.JPG\n",
            "ISIC_0033705.JPG  ISIC_0058902.JPG  ISIC_0064211.JPG  ISIC_0069460.JPG\n",
            "ISIC_0033811.JPG  ISIC_0058924.JPG  ISIC_0064222.JPG  ISIC_0069483.JPG\n",
            "ISIC_0033866.JPG  ISIC_0058939.JPG  ISIC_0064231.JPG  ISIC_0069518.JPG\n",
            "ISIC_0053478.JPG  ISIC_0058940.JPG  ISIC_0064262.JPG  ISIC_0069532.JPG\n",
            "ISIC_0053506.JPG  ISIC_0058951.JPG  ISIC_0064322.JPG  ISIC_0069544.JPG\n",
            "ISIC_0053515.JPG  ISIC_0058967.JPG  ISIC_0064330.JPG  ISIC_0069614.JPG\n",
            "ISIC_0053538.JPG  ISIC_0058971.JPG  ISIC_0064490.JPG  ISIC_0069629.JPG\n",
            "ISIC_0053563.JPG  ISIC_0058983.JPG  ISIC_0064524.JPG  ISIC_0069630.JPG\n",
            "ISIC_0053595.JPG  ISIC_0058988.JPG  ISIC_0064553.JPG  ISIC_0069685.JPG\n",
            "ISIC_0053597.JPG  ISIC_0058994.JPG  ISIC_0064583.JPG  ISIC_0069719.JPG\n",
            "ISIC_0053657.JPG  ISIC_0059014.JPG  ISIC_0064587.JPG  ISIC_0069755.JPG\n",
            "ISIC_0053664.JPG  ISIC_0059032.JPG  ISIC_0064617.JPG  ISIC_0069759.JPG\n",
            "ISIC_0053666.JPG  ISIC_0059058.JPG  ISIC_0064624.JPG  ISIC_0069769.JPG\n",
            "ISIC_0053679.JPG  ISIC_0059087.JPG  ISIC_0064638.JPG  ISIC_0069772.JPG\n",
            "ISIC_0053688.JPG  ISIC_0059108.JPG  ISIC_0064690.JPG  ISIC_0069789.JPG\n",
            "ISIC_0053708.JPG  ISIC_0059139.JPG  ISIC_0064735.JPG  ISIC_0069802.JPG\n",
            "ISIC_0053736.JPG  ISIC_0059146.JPG  ISIC_0064789.JPG  ISIC_0069818.JPG\n",
            "ISIC_0053738.JPG  ISIC_0059182.JPG  ISIC_0064796.JPG  ISIC_0069863.JPG\n",
            "ISIC_0053749.JPG  ISIC_0059198.JPG  ISIC_0064811.JPG  ISIC_0069869.JPG\n",
            "ISIC_0053764.JPG  ISIC_0059211.JPG  ISIC_0064951.JPG  ISIC_0069898.JPG\n",
            "ISIC_0053799.JPG  ISIC_0059250.JPG  ISIC_0064959.JPG  ISIC_0069904.JPG\n",
            "ISIC_0053826.JPG  ISIC_0059360.JPG  ISIC_0064969.JPG  ISIC_0069906.JPG\n",
            "ISIC_0053879.JPG  ISIC_0059372.JPG  ISIC_0065052.JPG  ISIC_0069916.JPG\n",
            "ISIC_0053892.JPG  ISIC_0059397.JPG  ISIC_0065070.JPG  ISIC_0069917.JPG\n",
            "ISIC_0053944.JPG  ISIC_0059408.JPG  ISIC_0065078.JPG  ISIC_0069925.JPG\n",
            "ISIC_0053950.JPG  ISIC_0059540.JPG  ISIC_0065095.JPG  ISIC_0069931.JPG\n",
            "ISIC_0054081.JPG  ISIC_0059561.JPG  ISIC_0065118.JPG  ISIC_0069932.JPG\n",
            "ISIC_0054118.JPG  ISIC_0059572.JPG  ISIC_0065120.JPG  ISIC_0069939.JPG\n",
            "ISIC_0054127.JPG  ISIC_0059588.JPG  ISIC_0065125.JPG  ISIC_0069942.JPG\n",
            "ISIC_0054137.JPG  ISIC_0059709.JPG  ISIC_0065150.JPG  ISIC_0070014.JPG\n",
            "ISIC_0054178.JPG  ISIC_0059720.JPG  ISIC_0065169.JPG  ISIC_0070056.JPG\n",
            "ISIC_0054181.JPG  ISIC_0059759.JPG  ISIC_0065203.JPG  ISIC_0070085.JPG\n",
            "ISIC_0054209.JPG  ISIC_0059789.JPG  ISIC_0065276.JPG  ISIC_0070116.JPG\n",
            "ISIC_0054223.JPG  ISIC_0059799.JPG  ISIC_0065301.JPG  ISIC_0070143.JPG\n",
            "ISIC_0054259.JPG  ISIC_0059800.JPG  ISIC_0065304.JPG  ISIC_0070164.JPG\n",
            "ISIC_0054271.JPG  ISIC_0059827.JPG  ISIC_0065306.JPG  ISIC_0070175.JPG\n",
            "ISIC_0054272.JPG  ISIC_0059843.JPG  ISIC_0065312.JPG  ISIC_0070195.JPG\n",
            "ISIC_0054333.JPG  ISIC_0059852.JPG  ISIC_0065329.JPG  ISIC_0070200.JPG\n",
            "ISIC_0054359.JPG  ISIC_0059872.JPG  ISIC_0065404.JPG  ISIC_0070232.JPG\n",
            "ISIC_0054432.JPG  ISIC_0059874.JPG  ISIC_0065413.JPG  ISIC_0070243.JPG\n",
            "ISIC_0054433.JPG  ISIC_0059886.JPG  ISIC_0065416.JPG  ISIC_0070256.JPG\n",
            "ISIC_0054531.JPG  ISIC_0059985.JPG  ISIC_0065450.JPG  ISIC_0070260.JPG\n",
            "ISIC_0054533.JPG  ISIC_0060041.JPG  ISIC_0065470.JPG  ISIC_0070297.JPG\n",
            "ISIC_0054556.JPG  ISIC_0060055.JPG  ISIC_0065476.JPG  ISIC_0070302.JPG\n",
            "ISIC_0054583.JPG  ISIC_0060078.JPG  ISIC_0065495.JPG  ISIC_0070305.JPG\n",
            "ISIC_0054592.JPG  ISIC_0060098.JPG  ISIC_0065538.JPG  ISIC_0070311.JPG\n",
            "ISIC_0054594.JPG  ISIC_0060116.JPG  ISIC_0065547.JPG  ISIC_0070321.JPG\n",
            "ISIC_0054598.JPG  ISIC_0060122.JPG  ISIC_0065552.JPG  ISIC_0070379.JPG\n",
            "ISIC_0054634.JPG  ISIC_0060136.JPG  ISIC_0065584.JPG  ISIC_0070462.JPG\n",
            "ISIC_0054635.JPG  ISIC_0060157.JPG  ISIC_0065611.JPG  ISIC_0070484.JPG\n",
            "ISIC_0054666.JPG  ISIC_0060207.JPG  ISIC_0065612.JPG  ISIC_0070486.JPG\n",
            "ISIC_0054687.JPG  ISIC_0060230.JPG  ISIC_0065628.JPG  ISIC_0070499.JPG\n",
            "ISIC_0054689.JPG  ISIC_0060235.JPG  ISIC_0065633.JPG  ISIC_0070505.JPG\n",
            "ISIC_0054805.JPG  ISIC_0060257.JPG  ISIC_0065661.JPG  ISIC_0070507.JPG\n",
            "ISIC_0054878.JPG  ISIC_0060269.JPG  ISIC_0065724.JPG  ISIC_0070510.JPG\n",
            "ISIC_0054899.JPG  ISIC_0060273.JPG  ISIC_0065741.JPG  ISIC_0070545.JPG\n",
            "ISIC_0054908.JPG  ISIC_0060337.JPG  ISIC_0065758.JPG  ISIC_0070643.JPG\n",
            "ISIC_0054921.JPG  ISIC_0060354.JPG  ISIC_0065811.JPG  ISIC_0070650.JPG\n",
            "ISIC_0055099.JPG  ISIC_0060357.JPG  ISIC_0065832.JPG  ISIC_0070691.JPG\n",
            "ISIC_0055159.JPG  ISIC_0060404.JPG  ISIC_0065861.JPG  ISIC_0070713.JPG\n",
            "ISIC_0055176.JPG  ISIC_0060467.JPG  ISIC_0065880.JPG  ISIC_0070737.JPG\n",
            "ISIC_0055250.JPG  ISIC_0060480.JPG  ISIC_0065938.JPG  ISIC_0070754.JPG\n",
            "ISIC_0055259.JPG  ISIC_0060509.JPG  ISIC_0065952.JPG  ISIC_0070877.JPG\n",
            "ISIC_0055260.JPG  ISIC_0060522.JPG  ISIC_0065955.JPG  ISIC_0070895.JPG\n",
            "ISIC_0055273.JPG  ISIC_0060546.JPG  ISIC_0065960.JPG  ISIC_0070922.JPG\n",
            "ISIC_0055331.JPG  ISIC_0060593.JPG  ISIC_0065992.JPG  ISIC_0070981.JPG\n",
            "ISIC_0055374.JPG  ISIC_0060636.JPG  ISIC_0066006.JPG  ISIC_0070993.JPG\n",
            "ISIC_0055400.JPG  ISIC_0060670.JPG  ISIC_0066056.JPG  ISIC_0070999.JPG\n",
            "ISIC_0055452.JPG  ISIC_0060706.JPG  ISIC_0066082.JPG  ISIC_0071007.JPG\n",
            "ISIC_0055475.JPG  ISIC_0060729.JPG  ISIC_0066123.JPG  ISIC_0071015.JPG\n",
            "ISIC_0055596.JPG  ISIC_0060755.JPG  ISIC_0066142.JPG  ISIC_0071020.JPG\n",
            "ISIC_0055609.JPG  ISIC_0060775.JPG  ISIC_0066180.JPG  ISIC_0071062.JPG\n",
            "ISIC_0055639.JPG  ISIC_0060776.JPG  ISIC_0066220.JPG  ISIC_0071093.JPG\n",
            "ISIC_0055686.JPG  ISIC_0060807.JPG  ISIC_0066272.JPG  ISIC_0071108.JPG\n",
            "ISIC_0055689.JPG  ISIC_0060810.JPG  ISIC_0066278.JPG  ISIC_0071186.JPG\n",
            "ISIC_0055724.JPG  ISIC_0060814.JPG  ISIC_0066296.JPG  ISIC_0071213.JPG\n",
            "ISIC_0055732.JPG  ISIC_0060926.JPG  ISIC_0066306.JPG  ISIC_0071256.JPG\n",
            "ISIC_0055809.JPG  ISIC_0060989.JPG  ISIC_0066315.JPG  ISIC_0071313.JPG\n",
            "ISIC_0055838.JPG  ISIC_0061039.JPG  ISIC_0066360.JPG  ISIC_0071320.JPG\n",
            "ISIC_0055844.JPG  ISIC_0061044.JPG  ISIC_0066370.JPG  ISIC_0071339.JPG\n",
            "ISIC_0055889.JPG  ISIC_0061059.JPG  ISIC_0066374.JPG  ISIC_0071417.JPG\n",
            "ISIC_0055908.JPG  ISIC_0061068.JPG  ISIC_0066391.JPG  ISIC_0071423.JPG\n",
            "ISIC_0055977.JPG  ISIC_0061121.JPG  ISIC_0066395.JPG  ISIC_0071440.JPG\n",
            "ISIC_0055989.JPG  ISIC_0061154.JPG  ISIC_0066452.JPG  ISIC_0071444.JPG\n",
            "ISIC_0056002.JPG  ISIC_0061170.JPG  ISIC_0066466.JPG  ISIC_0071449.JPG\n",
            "ISIC_0056004.JPG  ISIC_0061247.JPG  ISIC_0066507.JPG  ISIC_0071490.JPG\n",
            "ISIC_0056005.JPG  ISIC_0061285.JPG  ISIC_0066509.JPG  ISIC_0071500.JPG\n",
            "ISIC_0056016.JPG  ISIC_0061294.JPG  ISIC_0066546.JPG  ISIC_0071524.JPG\n",
            "ISIC_0056037.JPG  ISIC_0061298.JPG  ISIC_0066556.JPG  ISIC_0071535.JPG\n",
            "ISIC_0056052.JPG  ISIC_0061307.JPG  ISIC_0066563.JPG  ISIC_0071605.JPG\n",
            "ISIC_0056071.JPG  ISIC_0061331.JPG  ISIC_0066586.JPG  ISIC_0071606.JPG\n",
            "ISIC_0056073.JPG  ISIC_0061365.JPG  ISIC_0066595.JPG  ISIC_0071609.JPG\n",
            "ISIC_0056101.JPG  ISIC_0061376.JPG  ISIC_0066684.JPG  ISIC_0071619.JPG\n",
            "ISIC_0056115.JPG  ISIC_0061385.JPG  ISIC_0066699.JPG  ISIC_0071669.JPG\n",
            "ISIC_0056128.JPG  ISIC_0061410.JPG  ISIC_0066762.JPG  ISIC_0071671.JPG\n",
            "ISIC_0056159.JPG  ISIC_0061464.JPG  ISIC_0066785.JPG  ISIC_0071690.JPG\n",
            "ISIC_0056166.JPG  ISIC_0061499.JPG  ISIC_0066786.JPG  ISIC_0071711.JPG\n",
            "ISIC_0056176.JPG  ISIC_0061582.JPG  ISIC_0066819.JPG  ISIC_0071762.JPG\n",
            "ISIC_0056273.JPG  ISIC_0061588.JPG  ISIC_0066825.JPG  ISIC_0071772.JPG\n",
            "ISIC_0056278.JPG  ISIC_0061593.JPG  ISIC_0066858.JPG  ISIC_0071779.JPG\n",
            "ISIC_0056302.JPG  ISIC_0061667.JPG  ISIC_0066861.JPG  ISIC_0071830.JPG\n",
            "ISIC_0056343.JPG  ISIC_0061687.JPG  ISIC_0066864.JPG  ISIC_0071889.JPG\n",
            "ISIC_0056419.JPG  ISIC_0061691.JPG  ISIC_0066885.JPG  ISIC_0071932.JPG\n",
            "ISIC_0056421.JPG  ISIC_0061730.JPG  ISIC_0066892.JPG  ISIC_0071946.JPG\n",
            "ISIC_0056437.JPG  ISIC_0061767.JPG  ISIC_0066895.JPG  ISIC_0071953.JPG\n",
            "ISIC_0056504.JPG  ISIC_0061774.JPG  ISIC_0066913.JPG  ISIC_0071982.JPG\n",
            "ISIC_0056520.JPG  ISIC_0061787.JPG  ISIC_0066973.JPG  ISIC_0072018.JPG\n",
            "ISIC_0056529.JPG  ISIC_0061814.JPG  ISIC_0066988.JPG  ISIC_0072038.JPG\n",
            "ISIC_0056582.JPG  ISIC_0061836.JPG  ISIC_0066990.JPG  ISIC_0072089.JPG\n",
            "ISIC_0056613.JPG  ISIC_0061947.JPG  ISIC_0067061.JPG  ISIC_0072107.JPG\n",
            "ISIC_0056630.JPG  ISIC_0061967.JPG  ISIC_0067078.JPG  ISIC_0072152.JPG\n",
            "ISIC_0056643.JPG  ISIC_0061968.JPG  ISIC_0067100.JPG  ISIC_0072169.JPG\n",
            "ISIC_0056662.JPG  ISIC_0062024.JPG  ISIC_0067113.JPG  ISIC_0072180.JPG\n",
            "ISIC_0056724.JPG  ISIC_0062036.JPG  ISIC_0067150.JPG  ISIC_0072205.JPG\n",
            "ISIC_0056745.JPG  ISIC_0062043.JPG  ISIC_0067153.JPG  ISIC_0072265.JPG\n",
            "ISIC_0056756.JPG  ISIC_0062104.JPG  ISIC_0067177.JPG  ISIC_0072307.JPG\n",
            "ISIC_0056773.JPG  ISIC_0062116.JPG  ISIC_0067180.JPG  ISIC_0072352.JPG\n",
            "ISIC_0056867.JPG  ISIC_0062123.JPG  ISIC_0067204.JPG  ISIC_0072364.JPG\n",
            "ISIC_0056898.JPG  ISIC_0062159.JPG  ISIC_0067218.JPG  ISIC_0072514.JPG\n",
            "ISIC_0056904.JPG  ISIC_0062184.JPG  ISIC_0067246.JPG  ISIC_0072572.JPG\n",
            "ISIC_0056905.JPG  ISIC_0062212.JPG  ISIC_0067266.JPG  ISIC_0072584.JPG\n",
            "ISIC_0056920.JPG  ISIC_0062238.JPG  ISIC_0067297.JPG  ISIC_0072646.JPG\n",
            "ISIC_0057022.JPG  ISIC_0062245.JPG  ISIC_0067304.JPG  ISIC_0072652.JPG\n",
            "ISIC_0057038.JPG  ISIC_0062255.JPG  ISIC_0067314.JPG  ISIC_0072676.JPG\n",
            "ISIC_0057040.JPG  ISIC_0062272.JPG  ISIC_0067364.JPG  ISIC_0072716.JPG\n",
            "ISIC_0057042.JPG  ISIC_0062305.JPG  ISIC_0067377.JPG  ISIC_0072741.JPG\n",
            "ISIC_0057051.JPG  ISIC_0062345.JPG  ISIC_0067394.JPG  ISIC_0072754.JPG\n",
            "ISIC_0057052.JPG  ISIC_0062346.JPG  ISIC_0067425.JPG  ISIC_0072788.JPG\n",
            "ISIC_0057072.JPG  ISIC_0062351.JPG  ISIC_0067432.JPG  ISIC_0072814.JPG\n",
            "ISIC_0057077.JPG  ISIC_0062408.JPG  ISIC_0067450.JPG  ISIC_0072830.JPG\n",
            "ISIC_0057110.JPG  ISIC_0062426.JPG  ISIC_0067468.JPG  ISIC_0072847.JPG\n",
            "ISIC_0057126.JPG  ISIC_0062508.JPG  ISIC_0067490.JPG  ISIC_0072854.JPG\n",
            "ISIC_0057135.JPG  ISIC_0062586.JPG  ISIC_0067500.JPG  ISIC_0072861.JPG\n",
            "ISIC_0057145.JPG  ISIC_0062593.JPG  ISIC_0067519.JPG  ISIC_0072932.JPG\n",
            "ISIC_0057157.JPG  ISIC_0062608.JPG  ISIC_0067570.JPG  ISIC_0072940.JPG\n",
            "ISIC_0057225.JPG  ISIC_0062609.JPG  ISIC_0067592.JPG  ISIC_0072986.JPG\n",
            "ISIC_0057280.JPG  ISIC_0062611.JPG  ISIC_0067604.JPG  ISIC_0072992.JPG\n",
            "ISIC_0057351.JPG  ISIC_0062622.JPG  ISIC_0067632.JPG  ISIC_0073035.JPG\n",
            "ISIC_0057357.JPG  ISIC_0062641.JPG  ISIC_0067647.JPG  ISIC_0073045.JPG\n",
            "ISIC_0057387.JPG  ISIC_0062646.JPG  ISIC_0067676.JPG  ISIC_0073068.JPG\n",
            "ISIC_0057431.JPG  ISIC_0062692.JPG  ISIC_0067698.JPG  ISIC_0073130.JPG\n",
            "ISIC_0057437.JPG  ISIC_0062706.JPG  ISIC_0067728.JPG  ISIC_0073153.JPG\n",
            "ISIC_0057449.JPG  ISIC_0062738.JPG  ISIC_0067755.JPG  ISIC_0073157.JPG\n",
            "ISIC_0057455.JPG  ISIC_0062739.JPG  ISIC_0067759.JPG  ISIC_0073198.JPG\n",
            "ISIC_0057458.JPG  ISIC_0062741.JPG  ISIC_0067783.JPG  ISIC_0073214.JPG\n",
            "ISIC_0057477.JPG  ISIC_0062742.JPG  ISIC_0067799.JPG  ISIC_0073224.JPG\n",
            "ISIC_0057517.JPG  ISIC_0062743.JPG  ISIC_0067855.JPG  ISIC_0453394.JPG\n",
            "ISIC_0057526.JPG  ISIC_0062766.JPG  ISIC_0067887.JPG  ISIC_0464707.JPG\n",
            "ISIC_0057547.JPG  ISIC_0062814.JPG  ISIC_0067945.JPG  ISIC_0717152.JPG\n",
            "ISIC_0057575.JPG  ISIC_0062830.JPG  ISIC_0068014.JPG  ISIC_0875614.JPG\n",
            "ISIC_0057586.JPG  ISIC_0062877.JPG  ISIC_0068072.JPG  ISIC_1241834.JPG\n",
            "ISIC_0057616.JPG  ISIC_0062878.JPG  ISIC_0068086.JPG  ISIC_1832538.JPG\n",
            "ISIC_0057638.JPG  ISIC_0062940.JPG  ISIC_0068092.JPG  ISIC_1833509.JPG\n",
            "ISIC_0057679.JPG  ISIC_0062953.JPG  ISIC_0068175.JPG  ISIC_2099850.JPG\n",
            "ISIC_0057706.JPG  ISIC_0062971.JPG  ISIC_0068232.JPG  ISIC_2246574.JPG\n",
            "ISIC_0057739.JPG  ISIC_0063019.JPG  ISIC_0068325.JPG  ISIC_2365013.JPG\n",
            "ISIC_0057740.JPG  ISIC_0063037.JPG  ISIC_0068354.JPG  ISIC_3401800.JPG\n",
            "ISIC_0057778.JPG  ISIC_0063038.JPG  ISIC_0068360.JPG  ISIC_3909215.JPG\n",
            "ISIC_0057806.JPG  ISIC_0063045.JPG  ISIC_0068370.JPG  ISIC_3943279.JPG\n",
            "ISIC_0057847.JPG  ISIC_0063052.JPG  ISIC_0068377.JPG  ISIC_4247737.JPG\n",
            "ISIC_0057943.JPG  ISIC_0063068.JPG  ISIC_0068395.JPG  ISIC_4878461.JPG\n",
            "ISIC_0057986.JPG  ISIC_0063100.JPG  ISIC_0068419.JPG  ISIC_5123057.JPG\n",
            "ISIC_0057987.JPG  ISIC_0063107.JPG  ISIC_0068507.JPG  ISIC_5145385.JPG\n",
            "ISIC_0058103.JPG  ISIC_0063122.JPG  ISIC_0068522.JPG  ISIC_5685440.JPG\n",
            "ISIC_0058119.JPG  ISIC_0063175.JPG  ISIC_0068546.JPG  ISIC_5689175.JPG\n",
            "ISIC_0058153.JPG  ISIC_0063178.JPG  ISIC_0068571.JPG  ISIC_6065363.JPG\n",
            "ISIC_0058163.JPG  ISIC_0063187.JPG  ISIC_0068607.JPG  ISIC_6086066.JPG\n",
            "ISIC_0058192.JPG  ISIC_0063210.JPG  ISIC_0068626.JPG  ISIC_6113814.JPG\n",
            "ISIC_0058239.JPG  ISIC_0063250.JPG  ISIC_0068648.JPG  ISIC_6342190.JPG\n",
            "ISIC_0058242.JPG  ISIC_0063261.JPG  ISIC_0068653.JPG  ISIC_6794479.JPG\n",
            "ISIC_0058273.JPG  ISIC_0063287.JPG  ISIC_0068722.JPG  ISIC_6948176.JPG\n",
            "ISIC_0058320.JPG  ISIC_0063293.JPG  ISIC_0068797.JPG  ISIC_7175579.JPG\n",
            "ISIC_0058324.JPG  ISIC_0063320.JPG  ISIC_0068805.JPG  ISIC_7268223.JPG\n",
            "ISIC_0058325.JPG  ISIC_0063322.JPG  ISIC_0068812.JPG  ISIC_7341225.JPG\n",
            "ISIC_0058379.JPG  ISIC_0063331.JPG  ISIC_0068823.JPG  ISIC_7683429.JPG\n",
            "ISIC_0058404.JPG  ISIC_0063335.JPG  ISIC_0068843.JPG  ISIC_8080515.JPG\n",
            "ISIC_0058427.JPG  ISIC_0063359.JPG  ISIC_0068845.JPG  ISIC_8565608.JPG\n",
            "ISIC_0058431.JPG  ISIC_0063361.JPG  ISIC_0068879.JPG  ISIC_8711662.JPG\n",
            "ISIC_0058443.JPG  ISIC_0063435.JPG  ISIC_0068885.JPG  ISIC_8827801.JPG\n",
            "ISIC_0058452.JPG  ISIC_0063442.JPG  ISIC_0068892.JPG  ISIC_8868892.JPG\n",
            "ISIC_0058459.JPG  ISIC_0063536.JPG  ISIC_0068973.JPG  ISIC_8877949.JPG\n",
            "ISIC_0058460.JPG  ISIC_0063573.JPG  ISIC_0068977.JPG  ISIC_8892662.JPG\n",
            "ISIC_0058494.JPG  ISIC_0063577.JPG  ISIC_0068989.JPG  ISIC_8939957.JPG\n",
            "ISIC_0058506.JPG  ISIC_0063588.JPG  ISIC_0068995.JPG  ISIC_9380014.JPG\n",
            "ISIC_0058540.JPG  ISIC_0063674.JPG  ISIC_0069027.JPG  ISIC_9384946.JPG\n",
            "ISIC_0058593.JPG  ISIC_0063712.JPG  ISIC_0069043.JPG  ISIC_9750445.JPG\n",
            "ISIC_0058598.JPG  ISIC_0063778.JPG  ISIC_0069120.JPG  ISIC_9957272.JPG\n",
            "ISIC_0058623.JPG  ISIC_0063798.JPG  ISIC_0069125.JPG  metadata.csv\n",
            "ISIC_0058639.JPG  ISIC_0063878.JPG  ISIC_0069194.JPG\n"
          ]
        }
      ]
    },
    {
      "cell_type": "code",
      "source": [
        "!rm -f lesion-diagnosis/images/train/actinic-keratosis/metadata.csv\n",
        "!rm -f lesion-diagnosis/images/train/melanoma/metadata.csv\n",
        "!rm -f lesion-diagnosis/images/train/pigmented-benign-keratosis/metadata.csv\n",
        "!rm -f lesion-diagnosis/images/train/basal-cell-carcinoma/metadata.csv\n",
        "!rm -f lesion-diagnosis/images/train/nevus/metadata.csv\n",
        "!rm -f lesion-diagnosis/images/train/seborrheic-keratosis/metadata.csv\n",
        "\n",
        "!rm -f lesion-diagnosis/images/test/actinic-keratosis/metadata.csv\n",
        "!rm -f lesion-diagnosis/images/test/melanoma/metadata.csv\n",
        "!rm -f lesion-diagnosis/images/test/pigmented-benign-keratosis/metadata.csv\n",
        "!rm -f lesion-diagnosis/images/test/basal-cell-carcinoma/metadata.csv\n",
        "!rm -f lesion-diagnosis/images/test/nevus/metadata.csv\n",
        "!rm -f lesion-diagnosis/images/test/seborrheic-keratosis/metadata.csv"
      ],
      "metadata": {
        "id": "a0fh8qZwq8M_"
      },
      "execution_count": 11,
      "outputs": []
    },
    {
      "cell_type": "code",
      "source": [
        "!ls -a lesion-diagnosis/images/train/actinic-keratosis/"
      ],
      "metadata": {
        "colab": {
          "base_uri": "https://localhost:8080/"
        },
        "id": "si-pXoBSr9Uf",
        "outputId": "3b0b6419-342c-420e-86b6-5a9e3924de46"
      },
      "execution_count": 12,
      "outputs": [
        {
          "output_type": "stream",
          "name": "stdout",
          "text": [
            ".\t\t  ISIC_0058623.JPG  ISIC_0063878.JPG  ISIC_0069195.JPG\n",
            "..\t\t  ISIC_0058639.JPG  ISIC_0063883.JPG  ISIC_0069211.JPG\n",
            ".DS_Store\t  ISIC_0058640.JPG  ISIC_0063890.JPG  ISIC_0069265.JPG\n",
            "ISIC_0032404.JPG  ISIC_0058653.JPG  ISIC_0063927.JPG  ISIC_0069269.JPG\n",
            "ISIC_0032422.JPG  ISIC_0058756.JPG  ISIC_0063956.JPG  ISIC_0069282.JPG\n",
            "ISIC_0032437.JPG  ISIC_0058762.JPG  ISIC_0064022.JPG  ISIC_0069283.JPG\n",
            "ISIC_0032854.JPG  ISIC_0058769.JPG  ISIC_0064063.JPG  ISIC_0069289.JPG\n",
            "ISIC_0033151.JPG  ISIC_0058776.JPG  ISIC_0064067.JPG  ISIC_0069352.JPG\n",
            "ISIC_0033358.JPG  ISIC_0058864.JPG  ISIC_0064151.JPG  ISIC_0069384.JPG\n",
            "ISIC_0033413.JPG  ISIC_0058884.JPG  ISIC_0064196.JPG  ISIC_0069460.JPG\n",
            "ISIC_0033456.JPG  ISIC_0058890.JPG  ISIC_0064211.JPG  ISIC_0069483.JPG\n",
            "ISIC_0033494.JPG  ISIC_0058902.JPG  ISIC_0064222.JPG  ISIC_0069518.JPG\n",
            "ISIC_0033705.JPG  ISIC_0058924.JPG  ISIC_0064231.JPG  ISIC_0069532.JPG\n",
            "ISIC_0033811.JPG  ISIC_0058939.JPG  ISIC_0064262.JPG  ISIC_0069544.JPG\n",
            "ISIC_0033866.JPG  ISIC_0058940.JPG  ISIC_0064322.JPG  ISIC_0069614.JPG\n",
            "ISIC_0053478.JPG  ISIC_0058951.JPG  ISIC_0064330.JPG  ISIC_0069629.JPG\n",
            "ISIC_0053506.JPG  ISIC_0058967.JPG  ISIC_0064490.JPG  ISIC_0069630.JPG\n",
            "ISIC_0053515.JPG  ISIC_0058971.JPG  ISIC_0064524.JPG  ISIC_0069685.JPG\n",
            "ISIC_0053538.JPG  ISIC_0058983.JPG  ISIC_0064553.JPG  ISIC_0069719.JPG\n",
            "ISIC_0053563.JPG  ISIC_0058988.JPG  ISIC_0064583.JPG  ISIC_0069755.JPG\n",
            "ISIC_0053595.JPG  ISIC_0058994.JPG  ISIC_0064587.JPG  ISIC_0069759.JPG\n",
            "ISIC_0053597.JPG  ISIC_0059014.JPG  ISIC_0064617.JPG  ISIC_0069769.JPG\n",
            "ISIC_0053657.JPG  ISIC_0059032.JPG  ISIC_0064624.JPG  ISIC_0069772.JPG\n",
            "ISIC_0053664.JPG  ISIC_0059058.JPG  ISIC_0064638.JPG  ISIC_0069789.JPG\n",
            "ISIC_0053666.JPG  ISIC_0059087.JPG  ISIC_0064690.JPG  ISIC_0069802.JPG\n",
            "ISIC_0053679.JPG  ISIC_0059108.JPG  ISIC_0064735.JPG  ISIC_0069818.JPG\n",
            "ISIC_0053688.JPG  ISIC_0059139.JPG  ISIC_0064789.JPG  ISIC_0069863.JPG\n",
            "ISIC_0053708.JPG  ISIC_0059146.JPG  ISIC_0064796.JPG  ISIC_0069869.JPG\n",
            "ISIC_0053736.JPG  ISIC_0059182.JPG  ISIC_0064811.JPG  ISIC_0069898.JPG\n",
            "ISIC_0053738.JPG  ISIC_0059198.JPG  ISIC_0064951.JPG  ISIC_0069904.JPG\n",
            "ISIC_0053749.JPG  ISIC_0059211.JPG  ISIC_0064959.JPG  ISIC_0069906.JPG\n",
            "ISIC_0053764.JPG  ISIC_0059250.JPG  ISIC_0064969.JPG  ISIC_0069916.JPG\n",
            "ISIC_0053799.JPG  ISIC_0059360.JPG  ISIC_0065052.JPG  ISIC_0069917.JPG\n",
            "ISIC_0053826.JPG  ISIC_0059372.JPG  ISIC_0065070.JPG  ISIC_0069925.JPG\n",
            "ISIC_0053879.JPG  ISIC_0059397.JPG  ISIC_0065078.JPG  ISIC_0069931.JPG\n",
            "ISIC_0053892.JPG  ISIC_0059408.JPG  ISIC_0065095.JPG  ISIC_0069932.JPG\n",
            "ISIC_0053944.JPG  ISIC_0059540.JPG  ISIC_0065118.JPG  ISIC_0069939.JPG\n",
            "ISIC_0053950.JPG  ISIC_0059561.JPG  ISIC_0065120.JPG  ISIC_0069942.JPG\n",
            "ISIC_0054081.JPG  ISIC_0059572.JPG  ISIC_0065125.JPG  ISIC_0070014.JPG\n",
            "ISIC_0054118.JPG  ISIC_0059588.JPG  ISIC_0065150.JPG  ISIC_0070056.JPG\n",
            "ISIC_0054127.JPG  ISIC_0059709.JPG  ISIC_0065169.JPG  ISIC_0070085.JPG\n",
            "ISIC_0054137.JPG  ISIC_0059720.JPG  ISIC_0065203.JPG  ISIC_0070116.JPG\n",
            "ISIC_0054178.JPG  ISIC_0059759.JPG  ISIC_0065276.JPG  ISIC_0070143.JPG\n",
            "ISIC_0054181.JPG  ISIC_0059789.JPG  ISIC_0065301.JPG  ISIC_0070164.JPG\n",
            "ISIC_0054209.JPG  ISIC_0059799.JPG  ISIC_0065304.JPG  ISIC_0070175.JPG\n",
            "ISIC_0054223.JPG  ISIC_0059800.JPG  ISIC_0065306.JPG  ISIC_0070195.JPG\n",
            "ISIC_0054259.JPG  ISIC_0059827.JPG  ISIC_0065312.JPG  ISIC_0070200.JPG\n",
            "ISIC_0054271.JPG  ISIC_0059843.JPG  ISIC_0065329.JPG  ISIC_0070232.JPG\n",
            "ISIC_0054272.JPG  ISIC_0059852.JPG  ISIC_0065404.JPG  ISIC_0070243.JPG\n",
            "ISIC_0054333.JPG  ISIC_0059872.JPG  ISIC_0065413.JPG  ISIC_0070256.JPG\n",
            "ISIC_0054359.JPG  ISIC_0059874.JPG  ISIC_0065416.JPG  ISIC_0070260.JPG\n",
            "ISIC_0054432.JPG  ISIC_0059886.JPG  ISIC_0065450.JPG  ISIC_0070297.JPG\n",
            "ISIC_0054433.JPG  ISIC_0059985.JPG  ISIC_0065470.JPG  ISIC_0070302.JPG\n",
            "ISIC_0054531.JPG  ISIC_0060041.JPG  ISIC_0065476.JPG  ISIC_0070305.JPG\n",
            "ISIC_0054533.JPG  ISIC_0060055.JPG  ISIC_0065495.JPG  ISIC_0070311.JPG\n",
            "ISIC_0054556.JPG  ISIC_0060078.JPG  ISIC_0065538.JPG  ISIC_0070321.JPG\n",
            "ISIC_0054583.JPG  ISIC_0060098.JPG  ISIC_0065547.JPG  ISIC_0070379.JPG\n",
            "ISIC_0054592.JPG  ISIC_0060116.JPG  ISIC_0065552.JPG  ISIC_0070462.JPG\n",
            "ISIC_0054594.JPG  ISIC_0060122.JPG  ISIC_0065584.JPG  ISIC_0070484.JPG\n",
            "ISIC_0054598.JPG  ISIC_0060136.JPG  ISIC_0065611.JPG  ISIC_0070486.JPG\n",
            "ISIC_0054634.JPG  ISIC_0060157.JPG  ISIC_0065612.JPG  ISIC_0070499.JPG\n",
            "ISIC_0054635.JPG  ISIC_0060207.JPG  ISIC_0065628.JPG  ISIC_0070505.JPG\n",
            "ISIC_0054666.JPG  ISIC_0060230.JPG  ISIC_0065633.JPG  ISIC_0070507.JPG\n",
            "ISIC_0054687.JPG  ISIC_0060235.JPG  ISIC_0065661.JPG  ISIC_0070510.JPG\n",
            "ISIC_0054689.JPG  ISIC_0060257.JPG  ISIC_0065724.JPG  ISIC_0070545.JPG\n",
            "ISIC_0054805.JPG  ISIC_0060269.JPG  ISIC_0065741.JPG  ISIC_0070643.JPG\n",
            "ISIC_0054878.JPG  ISIC_0060273.JPG  ISIC_0065758.JPG  ISIC_0070650.JPG\n",
            "ISIC_0054899.JPG  ISIC_0060337.JPG  ISIC_0065811.JPG  ISIC_0070691.JPG\n",
            "ISIC_0054908.JPG  ISIC_0060354.JPG  ISIC_0065832.JPG  ISIC_0070713.JPG\n",
            "ISIC_0054921.JPG  ISIC_0060357.JPG  ISIC_0065861.JPG  ISIC_0070737.JPG\n",
            "ISIC_0055099.JPG  ISIC_0060404.JPG  ISIC_0065880.JPG  ISIC_0070754.JPG\n",
            "ISIC_0055159.JPG  ISIC_0060467.JPG  ISIC_0065938.JPG  ISIC_0070877.JPG\n",
            "ISIC_0055176.JPG  ISIC_0060480.JPG  ISIC_0065952.JPG  ISIC_0070895.JPG\n",
            "ISIC_0055250.JPG  ISIC_0060509.JPG  ISIC_0065955.JPG  ISIC_0070922.JPG\n",
            "ISIC_0055259.JPG  ISIC_0060522.JPG  ISIC_0065960.JPG  ISIC_0070981.JPG\n",
            "ISIC_0055260.JPG  ISIC_0060546.JPG  ISIC_0065992.JPG  ISIC_0070993.JPG\n",
            "ISIC_0055273.JPG  ISIC_0060593.JPG  ISIC_0066006.JPG  ISIC_0070999.JPG\n",
            "ISIC_0055331.JPG  ISIC_0060636.JPG  ISIC_0066056.JPG  ISIC_0071007.JPG\n",
            "ISIC_0055374.JPG  ISIC_0060670.JPG  ISIC_0066082.JPG  ISIC_0071015.JPG\n",
            "ISIC_0055400.JPG  ISIC_0060706.JPG  ISIC_0066123.JPG  ISIC_0071020.JPG\n",
            "ISIC_0055452.JPG  ISIC_0060729.JPG  ISIC_0066142.JPG  ISIC_0071062.JPG\n",
            "ISIC_0055475.JPG  ISIC_0060755.JPG  ISIC_0066180.JPG  ISIC_0071093.JPG\n",
            "ISIC_0055596.JPG  ISIC_0060775.JPG  ISIC_0066220.JPG  ISIC_0071108.JPG\n",
            "ISIC_0055609.JPG  ISIC_0060776.JPG  ISIC_0066272.JPG  ISIC_0071186.JPG\n",
            "ISIC_0055639.JPG  ISIC_0060807.JPG  ISIC_0066278.JPG  ISIC_0071213.JPG\n",
            "ISIC_0055686.JPG  ISIC_0060810.JPG  ISIC_0066296.JPG  ISIC_0071256.JPG\n",
            "ISIC_0055689.JPG  ISIC_0060814.JPG  ISIC_0066306.JPG  ISIC_0071313.JPG\n",
            "ISIC_0055724.JPG  ISIC_0060926.JPG  ISIC_0066315.JPG  ISIC_0071320.JPG\n",
            "ISIC_0055732.JPG  ISIC_0060989.JPG  ISIC_0066360.JPG  ISIC_0071339.JPG\n",
            "ISIC_0055809.JPG  ISIC_0061039.JPG  ISIC_0066370.JPG  ISIC_0071417.JPG\n",
            "ISIC_0055838.JPG  ISIC_0061044.JPG  ISIC_0066374.JPG  ISIC_0071423.JPG\n",
            "ISIC_0055844.JPG  ISIC_0061059.JPG  ISIC_0066391.JPG  ISIC_0071440.JPG\n",
            "ISIC_0055889.JPG  ISIC_0061068.JPG  ISIC_0066395.JPG  ISIC_0071444.JPG\n",
            "ISIC_0055908.JPG  ISIC_0061121.JPG  ISIC_0066452.JPG  ISIC_0071449.JPG\n",
            "ISIC_0055977.JPG  ISIC_0061154.JPG  ISIC_0066466.JPG  ISIC_0071490.JPG\n",
            "ISIC_0055989.JPG  ISIC_0061170.JPG  ISIC_0066507.JPG  ISIC_0071500.JPG\n",
            "ISIC_0056002.JPG  ISIC_0061247.JPG  ISIC_0066509.JPG  ISIC_0071524.JPG\n",
            "ISIC_0056004.JPG  ISIC_0061285.JPG  ISIC_0066546.JPG  ISIC_0071535.JPG\n",
            "ISIC_0056005.JPG  ISIC_0061294.JPG  ISIC_0066556.JPG  ISIC_0071605.JPG\n",
            "ISIC_0056016.JPG  ISIC_0061298.JPG  ISIC_0066563.JPG  ISIC_0071606.JPG\n",
            "ISIC_0056037.JPG  ISIC_0061307.JPG  ISIC_0066586.JPG  ISIC_0071609.JPG\n",
            "ISIC_0056052.JPG  ISIC_0061331.JPG  ISIC_0066595.JPG  ISIC_0071619.JPG\n",
            "ISIC_0056071.JPG  ISIC_0061365.JPG  ISIC_0066684.JPG  ISIC_0071669.JPG\n",
            "ISIC_0056073.JPG  ISIC_0061376.JPG  ISIC_0066699.JPG  ISIC_0071671.JPG\n",
            "ISIC_0056101.JPG  ISIC_0061385.JPG  ISIC_0066762.JPG  ISIC_0071690.JPG\n",
            "ISIC_0056115.JPG  ISIC_0061410.JPG  ISIC_0066785.JPG  ISIC_0071711.JPG\n",
            "ISIC_0056128.JPG  ISIC_0061464.JPG  ISIC_0066786.JPG  ISIC_0071762.JPG\n",
            "ISIC_0056159.JPG  ISIC_0061499.JPG  ISIC_0066819.JPG  ISIC_0071772.JPG\n",
            "ISIC_0056166.JPG  ISIC_0061582.JPG  ISIC_0066825.JPG  ISIC_0071779.JPG\n",
            "ISIC_0056176.JPG  ISIC_0061588.JPG  ISIC_0066858.JPG  ISIC_0071830.JPG\n",
            "ISIC_0056273.JPG  ISIC_0061593.JPG  ISIC_0066861.JPG  ISIC_0071889.JPG\n",
            "ISIC_0056278.JPG  ISIC_0061667.JPG  ISIC_0066864.JPG  ISIC_0071932.JPG\n",
            "ISIC_0056302.JPG  ISIC_0061687.JPG  ISIC_0066885.JPG  ISIC_0071946.JPG\n",
            "ISIC_0056343.JPG  ISIC_0061691.JPG  ISIC_0066892.JPG  ISIC_0071953.JPG\n",
            "ISIC_0056419.JPG  ISIC_0061730.JPG  ISIC_0066895.JPG  ISIC_0071982.JPG\n",
            "ISIC_0056421.JPG  ISIC_0061767.JPG  ISIC_0066913.JPG  ISIC_0072018.JPG\n",
            "ISIC_0056437.JPG  ISIC_0061774.JPG  ISIC_0066973.JPG  ISIC_0072038.JPG\n",
            "ISIC_0056504.JPG  ISIC_0061787.JPG  ISIC_0066988.JPG  ISIC_0072089.JPG\n",
            "ISIC_0056520.JPG  ISIC_0061814.JPG  ISIC_0066990.JPG  ISIC_0072107.JPG\n",
            "ISIC_0056529.JPG  ISIC_0061836.JPG  ISIC_0067061.JPG  ISIC_0072152.JPG\n",
            "ISIC_0056582.JPG  ISIC_0061947.JPG  ISIC_0067078.JPG  ISIC_0072169.JPG\n",
            "ISIC_0056613.JPG  ISIC_0061967.JPG  ISIC_0067100.JPG  ISIC_0072180.JPG\n",
            "ISIC_0056630.JPG  ISIC_0061968.JPG  ISIC_0067113.JPG  ISIC_0072205.JPG\n",
            "ISIC_0056643.JPG  ISIC_0062024.JPG  ISIC_0067150.JPG  ISIC_0072265.JPG\n",
            "ISIC_0056662.JPG  ISIC_0062036.JPG  ISIC_0067153.JPG  ISIC_0072307.JPG\n",
            "ISIC_0056724.JPG  ISIC_0062043.JPG  ISIC_0067177.JPG  ISIC_0072352.JPG\n",
            "ISIC_0056745.JPG  ISIC_0062104.JPG  ISIC_0067180.JPG  ISIC_0072364.JPG\n",
            "ISIC_0056756.JPG  ISIC_0062116.JPG  ISIC_0067204.JPG  ISIC_0072514.JPG\n",
            "ISIC_0056773.JPG  ISIC_0062123.JPG  ISIC_0067218.JPG  ISIC_0072572.JPG\n",
            "ISIC_0056867.JPG  ISIC_0062159.JPG  ISIC_0067246.JPG  ISIC_0072584.JPG\n",
            "ISIC_0056898.JPG  ISIC_0062184.JPG  ISIC_0067266.JPG  ISIC_0072646.JPG\n",
            "ISIC_0056904.JPG  ISIC_0062212.JPG  ISIC_0067297.JPG  ISIC_0072652.JPG\n",
            "ISIC_0056905.JPG  ISIC_0062238.JPG  ISIC_0067304.JPG  ISIC_0072676.JPG\n",
            "ISIC_0056920.JPG  ISIC_0062245.JPG  ISIC_0067314.JPG  ISIC_0072716.JPG\n",
            "ISIC_0057022.JPG  ISIC_0062255.JPG  ISIC_0067364.JPG  ISIC_0072741.JPG\n",
            "ISIC_0057038.JPG  ISIC_0062272.JPG  ISIC_0067377.JPG  ISIC_0072754.JPG\n",
            "ISIC_0057040.JPG  ISIC_0062305.JPG  ISIC_0067394.JPG  ISIC_0072788.JPG\n",
            "ISIC_0057042.JPG  ISIC_0062345.JPG  ISIC_0067425.JPG  ISIC_0072814.JPG\n",
            "ISIC_0057051.JPG  ISIC_0062346.JPG  ISIC_0067432.JPG  ISIC_0072830.JPG\n",
            "ISIC_0057052.JPG  ISIC_0062351.JPG  ISIC_0067450.JPG  ISIC_0072847.JPG\n",
            "ISIC_0057072.JPG  ISIC_0062408.JPG  ISIC_0067468.JPG  ISIC_0072854.JPG\n",
            "ISIC_0057077.JPG  ISIC_0062426.JPG  ISIC_0067490.JPG  ISIC_0072861.JPG\n",
            "ISIC_0057110.JPG  ISIC_0062508.JPG  ISIC_0067500.JPG  ISIC_0072932.JPG\n",
            "ISIC_0057126.JPG  ISIC_0062586.JPG  ISIC_0067519.JPG  ISIC_0072940.JPG\n",
            "ISIC_0057135.JPG  ISIC_0062593.JPG  ISIC_0067570.JPG  ISIC_0072986.JPG\n",
            "ISIC_0057145.JPG  ISIC_0062608.JPG  ISIC_0067592.JPG  ISIC_0072992.JPG\n",
            "ISIC_0057157.JPG  ISIC_0062609.JPG  ISIC_0067604.JPG  ISIC_0073035.JPG\n",
            "ISIC_0057225.JPG  ISIC_0062611.JPG  ISIC_0067632.JPG  ISIC_0073045.JPG\n",
            "ISIC_0057280.JPG  ISIC_0062622.JPG  ISIC_0067647.JPG  ISIC_0073068.JPG\n",
            "ISIC_0057351.JPG  ISIC_0062641.JPG  ISIC_0067676.JPG  ISIC_0073130.JPG\n",
            "ISIC_0057357.JPG  ISIC_0062646.JPG  ISIC_0067698.JPG  ISIC_0073153.JPG\n",
            "ISIC_0057387.JPG  ISIC_0062692.JPG  ISIC_0067728.JPG  ISIC_0073157.JPG\n",
            "ISIC_0057431.JPG  ISIC_0062706.JPG  ISIC_0067755.JPG  ISIC_0073198.JPG\n",
            "ISIC_0057437.JPG  ISIC_0062738.JPG  ISIC_0067759.JPG  ISIC_0073214.JPG\n",
            "ISIC_0057449.JPG  ISIC_0062739.JPG  ISIC_0067783.JPG  ISIC_0073224.JPG\n",
            "ISIC_0057455.JPG  ISIC_0062741.JPG  ISIC_0067799.JPG  ISIC_0453394.JPG\n",
            "ISIC_0057458.JPG  ISIC_0062742.JPG  ISIC_0067855.JPG  ISIC_0464707.JPG\n",
            "ISIC_0057477.JPG  ISIC_0062743.JPG  ISIC_0067887.JPG  ISIC_0717152.JPG\n",
            "ISIC_0057517.JPG  ISIC_0062766.JPG  ISIC_0067945.JPG  ISIC_0875614.JPG\n",
            "ISIC_0057526.JPG  ISIC_0062814.JPG  ISIC_0068014.JPG  ISIC_1241834.JPG\n",
            "ISIC_0057547.JPG  ISIC_0062830.JPG  ISIC_0068072.JPG  ISIC_1832538.JPG\n",
            "ISIC_0057575.JPG  ISIC_0062877.JPG  ISIC_0068086.JPG  ISIC_1833509.JPG\n",
            "ISIC_0057586.JPG  ISIC_0062878.JPG  ISIC_0068092.JPG  ISIC_2099850.JPG\n",
            "ISIC_0057616.JPG  ISIC_0062940.JPG  ISIC_0068175.JPG  ISIC_2246574.JPG\n",
            "ISIC_0057638.JPG  ISIC_0062953.JPG  ISIC_0068232.JPG  ISIC_2365013.JPG\n",
            "ISIC_0057679.JPG  ISIC_0062971.JPG  ISIC_0068325.JPG  ISIC_3401800.JPG\n",
            "ISIC_0057706.JPG  ISIC_0063019.JPG  ISIC_0068354.JPG  ISIC_3909215.JPG\n",
            "ISIC_0057739.JPG  ISIC_0063037.JPG  ISIC_0068360.JPG  ISIC_3943279.JPG\n",
            "ISIC_0057740.JPG  ISIC_0063038.JPG  ISIC_0068370.JPG  ISIC_4247737.JPG\n",
            "ISIC_0057778.JPG  ISIC_0063045.JPG  ISIC_0068377.JPG  ISIC_4878461.JPG\n",
            "ISIC_0057806.JPG  ISIC_0063052.JPG  ISIC_0068395.JPG  ISIC_5123057.JPG\n",
            "ISIC_0057847.JPG  ISIC_0063068.JPG  ISIC_0068419.JPG  ISIC_5145385.JPG\n",
            "ISIC_0057943.JPG  ISIC_0063100.JPG  ISIC_0068507.JPG  ISIC_5685440.JPG\n",
            "ISIC_0057986.JPG  ISIC_0063107.JPG  ISIC_0068522.JPG  ISIC_5689175.JPG\n",
            "ISIC_0057987.JPG  ISIC_0063122.JPG  ISIC_0068546.JPG  ISIC_6065363.JPG\n",
            "ISIC_0058103.JPG  ISIC_0063175.JPG  ISIC_0068571.JPG  ISIC_6086066.JPG\n",
            "ISIC_0058119.JPG  ISIC_0063178.JPG  ISIC_0068607.JPG  ISIC_6113814.JPG\n",
            "ISIC_0058153.JPG  ISIC_0063187.JPG  ISIC_0068626.JPG  ISIC_6342190.JPG\n",
            "ISIC_0058163.JPG  ISIC_0063210.JPG  ISIC_0068648.JPG  ISIC_6794479.JPG\n",
            "ISIC_0058192.JPG  ISIC_0063250.JPG  ISIC_0068653.JPG  ISIC_6948176.JPG\n",
            "ISIC_0058239.JPG  ISIC_0063261.JPG  ISIC_0068722.JPG  ISIC_7175579.JPG\n",
            "ISIC_0058242.JPG  ISIC_0063287.JPG  ISIC_0068797.JPG  ISIC_7268223.JPG\n",
            "ISIC_0058273.JPG  ISIC_0063293.JPG  ISIC_0068805.JPG  ISIC_7341225.JPG\n",
            "ISIC_0058320.JPG  ISIC_0063320.JPG  ISIC_0068812.JPG  ISIC_7683429.JPG\n",
            "ISIC_0058324.JPG  ISIC_0063322.JPG  ISIC_0068823.JPG  ISIC_8080515.JPG\n",
            "ISIC_0058325.JPG  ISIC_0063331.JPG  ISIC_0068843.JPG  ISIC_8565608.JPG\n",
            "ISIC_0058379.JPG  ISIC_0063335.JPG  ISIC_0068845.JPG  ISIC_8711662.JPG\n",
            "ISIC_0058404.JPG  ISIC_0063359.JPG  ISIC_0068879.JPG  ISIC_8827801.JPG\n",
            "ISIC_0058427.JPG  ISIC_0063361.JPG  ISIC_0068885.JPG  ISIC_8868892.JPG\n",
            "ISIC_0058431.JPG  ISIC_0063435.JPG  ISIC_0068892.JPG  ISIC_8877949.JPG\n",
            "ISIC_0058443.JPG  ISIC_0063442.JPG  ISIC_0068973.JPG  ISIC_8892662.JPG\n",
            "ISIC_0058452.JPG  ISIC_0063536.JPG  ISIC_0068977.JPG  ISIC_8939957.JPG\n",
            "ISIC_0058459.JPG  ISIC_0063573.JPG  ISIC_0068989.JPG  ISIC_9380014.JPG\n",
            "ISIC_0058460.JPG  ISIC_0063577.JPG  ISIC_0068995.JPG  ISIC_9384946.JPG\n",
            "ISIC_0058494.JPG  ISIC_0063588.JPG  ISIC_0069027.JPG  ISIC_9750445.JPG\n",
            "ISIC_0058506.JPG  ISIC_0063674.JPG  ISIC_0069043.JPG  ISIC_9957272.JPG\n",
            "ISIC_0058540.JPG  ISIC_0063712.JPG  ISIC_0069120.JPG\n",
            "ISIC_0058593.JPG  ISIC_0063778.JPG  ISIC_0069125.JPG\n",
            "ISIC_0058598.JPG  ISIC_0063798.JPG  ISIC_0069194.JPG\n"
          ]
        }
      ]
    },
    {
      "cell_type": "code",
      "source": [
        "import os\n",
        "\n",
        "# Walk through the lesion-diagnosis directory and remove .DS_Store file from all the folders\n",
        "for dirpath in os.walk(\"lesion-diagnosis\"):\n",
        "  file_path = dirpath[0] + \"/.DS_Store\"\n",
        "  if os.path.isfile(file_path):\n",
        "    os.remove(file_path)"
      ],
      "metadata": {
        "id": "eAtlXpl6u3fd"
      },
      "execution_count": 13,
      "outputs": []
    },
    {
      "cell_type": "code",
      "source": [
        "!rm -rf lesion-diagnosis/images/all-images\n",
        "!cp -R lesion-diagnosis/images lesion-diagnosis/all-images\n",
        "!mv lesion-diagnosis/all-images lesion-diagnosis/all-lesion-diagnosis-images"
      ],
      "metadata": {
        "id": "j_tbJqPa-Kfr"
      },
      "execution_count": 14,
      "outputs": []
    },
    {
      "cell_type": "code",
      "source": [
        "# Walk through the lesion-diagnosis directory and list number of files\n",
        "for dirpath, dirnames, filenames in os.walk(\"lesion-diagnosis\"):\n",
        "  print(f\"There are {len(dirnames)} directories and {len(filenames)} images in '{dirpath}'.\")"
      ],
      "metadata": {
        "colab": {
          "base_uri": "https://localhost:8080/"
        },
        "id": "E4D4XA4nByMQ",
        "outputId": "771c8ac1-c7d4-4d4f-bac6-85fbf0a3359a"
      },
      "execution_count": 16,
      "outputs": [
        {
          "output_type": "stream",
          "name": "stdout",
          "text": [
            "There are 2 directories and 0 images in 'lesion-diagnosis'.\n",
            "There are 2 directories and 0 images in 'lesion-diagnosis/images'.\n",
            "There are 6 directories and 0 images in 'lesion-diagnosis/images/train'.\n",
            "There are 0 directories and 800 images in 'lesion-diagnosis/images/train/basal-cell-carcinoma'.\n",
            "There are 0 directories and 800 images in 'lesion-diagnosis/images/train/pigmented-benign-keratosis'.\n",
            "There are 0 directories and 790 images in 'lesion-diagnosis/images/train/actinic-keratosis'.\n",
            "There are 0 directories and 800 images in 'lesion-diagnosis/images/train/melanoma'.\n",
            "There are 0 directories and 800 images in 'lesion-diagnosis/images/train/seborrheic-keratosis'.\n",
            "There are 0 directories and 800 images in 'lesion-diagnosis/images/train/nevus'.\n",
            "There are 6 directories and 0 images in 'lesion-diagnosis/images/test'.\n",
            "There are 0 directories and 200 images in 'lesion-diagnosis/images/test/basal-cell-carcinoma'.\n",
            "There are 0 directories and 200 images in 'lesion-diagnosis/images/test/pigmented-benign-keratosis'.\n",
            "There are 0 directories and 120 images in 'lesion-diagnosis/images/test/actinic-keratosis'.\n",
            "There are 0 directories and 200 images in 'lesion-diagnosis/images/test/melanoma'.\n",
            "There are 0 directories and 200 images in 'lesion-diagnosis/images/test/seborrheic-keratosis'.\n",
            "There are 0 directories and 200 images in 'lesion-diagnosis/images/test/nevus'.\n",
            "There are 2 directories and 0 images in 'lesion-diagnosis/all-lesion-diagnosis-images'.\n",
            "There are 6 directories and 0 images in 'lesion-diagnosis/all-lesion-diagnosis-images/train'.\n",
            "There are 0 directories and 800 images in 'lesion-diagnosis/all-lesion-diagnosis-images/train/basal-cell-carcinoma'.\n",
            "There are 0 directories and 800 images in 'lesion-diagnosis/all-lesion-diagnosis-images/train/pigmented-benign-keratosis'.\n",
            "There are 0 directories and 790 images in 'lesion-diagnosis/all-lesion-diagnosis-images/train/actinic-keratosis'.\n",
            "There are 0 directories and 800 images in 'lesion-diagnosis/all-lesion-diagnosis-images/train/melanoma'.\n",
            "There are 0 directories and 800 images in 'lesion-diagnosis/all-lesion-diagnosis-images/train/seborrheic-keratosis'.\n",
            "There are 0 directories and 800 images in 'lesion-diagnosis/all-lesion-diagnosis-images/train/nevus'.\n",
            "There are 6 directories and 0 images in 'lesion-diagnosis/all-lesion-diagnosis-images/test'.\n",
            "There are 0 directories and 200 images in 'lesion-diagnosis/all-lesion-diagnosis-images/test/basal-cell-carcinoma'.\n",
            "There are 0 directories and 200 images in 'lesion-diagnosis/all-lesion-diagnosis-images/test/pigmented-benign-keratosis'.\n",
            "There are 0 directories and 120 images in 'lesion-diagnosis/all-lesion-diagnosis-images/test/actinic-keratosis'.\n",
            "There are 0 directories and 200 images in 'lesion-diagnosis/all-lesion-diagnosis-images/test/melanoma'.\n",
            "There are 0 directories and 200 images in 'lesion-diagnosis/all-lesion-diagnosis-images/test/seborrheic-keratosis'.\n",
            "There are 0 directories and 200 images in 'lesion-diagnosis/all-lesion-diagnosis-images/test/nevus'.\n"
          ]
        }
      ]
    },
    {
      "cell_type": "markdown",
      "source": [
        "**we've have.**\n",
        "\n",
        "\n",
        "*   800 training images and 200 testing images for melanoma,pigmented-benign-keratosis,basal-cell-carcinoma,nevus,seborrheic-keratosis\n",
        "*   only for actinic-keratosis, we have 790 images for training and 120 images for testing"
      ],
      "metadata": {
        "id": "S00t-M1BB7Yf"
      }
    },
    {
      "cell_type": "code",
      "source": [
        "# Get the class names programmatically\n",
        "import pathlib\n",
        "import numpy as np\n",
        "\n",
        "# turn our training path into a Python path and created a list of class_names from the subdirectories\n",
        "data_dir = pathlib.Path(\"lesion-diagnosis/images/train/\") \n",
        "class_names = np.array(sorted([item.name for item in data_dir.glob('*')]))\n",
        "print(class_names)"
      ],
      "metadata": {
        "colab": {
          "base_uri": "https://localhost:8080/"
        },
        "id": "8P45I4sYxPme",
        "outputId": "82a97c0f-b73c-4c87-8dcb-c980af6eb5e0"
      },
      "execution_count": 17,
      "outputs": [
        {
          "output_type": "stream",
          "name": "stdout",
          "text": [
            "['actinic-keratosis' 'basal-cell-carcinoma' 'melanoma' 'nevus'\n",
            " 'pigmented-benign-keratosis' 'seborrheic-keratosis']\n"
          ]
        }
      ]
    },
    {
      "cell_type": "markdown",
      "source": [
        "**Visualize the images**"
      ],
      "metadata": {
        "id": "4cDlxSjuzn38"
      }
    },
    {
      "cell_type": "code",
      "source": [
        "# A resuable function to view an image\n",
        "import matplotlib.pyplot as plt\n",
        "import matplotlib.image as mpimg\n",
        "import random\n",
        "\n",
        "def view_random_image(target_dir, target_class):\n",
        "  # Setup target directory (we'll view images from here)\n",
        "  target_folder = target_dir+target_class\n",
        "\n",
        "  # Get a random image path\n",
        "  random_image = random.sample(os.listdir(target_folder), 1)\n",
        "\n",
        "  # Read in the image and plot it using matplotlib\n",
        "  img = mpimg.imread(target_folder + \"/\" + random_image[0])\n",
        "  plt.imshow(img)\n",
        "  plt.title(target_class)\n",
        "  plt.axis(\"off\");\n",
        "\n",
        "  print(f\"Image shape: {img.shape}\") # show the shape of the image\n",
        "\n",
        "  return img"
      ],
      "metadata": {
        "id": "RUXloKfFzi9Y"
      },
      "execution_count": 18,
      "outputs": []
    },
    {
      "cell_type": "code",
      "source": [
        "# View a random image from the training dataset\n",
        "img = view_random_image(target_dir=\"lesion-diagnosis/images/train/\",\n",
        "                        target_class=\"melanoma\")"
      ],
      "metadata": {
        "colab": {
          "base_uri": "https://localhost:8080/",
          "height": 282
        },
        "id": "ewQMhJrs0l9z",
        "outputId": "8014b156-175d-4249-8514-04d1baaa696e"
      },
      "execution_count": 19,
      "outputs": [
        {
          "output_type": "stream",
          "name": "stdout",
          "text": [
            "Image shape: (2448, 3264, 3)\n"
          ]
        },
        {
          "output_type": "display_data",
          "data": {
            "text/plain": [
              "<Figure size 432x288 with 1 Axes>"
            ],
            "image/png": "[encoded data removed]"
          },
          "metadata": {
            "needs_background": "light"
          }
        }
      ]
    },
    {
      "cell_type": "code",
      "source": [
        "# View the shape of the image \n",
        "img.shape # returns (width, height, colour channels)"
      ],
      "metadata": {
        "colab": {
          "base_uri": "https://localhost:8080/"
        },
        "id": "xZlx03Pj2Xom",
        "outputId": "37f78160-ebbc-4b33-ca53-047c428ff03a"
      },
      "execution_count": 20,
      "outputs": [
        {
          "output_type": "execute_result",
          "data": {
            "text/plain": [
              "(2448, 3264, 3)"
            ]
          },
          "metadata": {},
          "execution_count": 20
        }
      ]
    },
    {
      "cell_type": "code",
      "source": [
        "# View the img (array)\n",
        "img"
      ],
      "metadata": {
        "colab": {
          "base_uri": "https://localhost:8080/"
        },
        "id": "nWZ2J8yu2_0K",
        "outputId": "e0b00e1f-449a-429f-bdb8-72e7199708d6"
      },
      "execution_count": 21,
      "outputs": [
        {
          "output_type": "execute_result",
          "data": {
            "text/plain": [
              "array([[[57, 37, 38],\n",
              "        [61, 41, 42],\n",
              "        [63, 43, 44],\n",
              "        ...,\n",
              "        [60, 26, 24],\n",
              "        [65, 31, 29],\n",
              "        [70, 36, 34]],\n",
              "\n",
              "       [[67, 47, 48],\n",
              "        [66, 46, 47],\n",
              "        [64, 44, 45],\n",
              "        ...,\n",
              "        [53, 19, 17],\n",
              "        [56, 22, 20],\n",
              "        [60, 26, 24]],\n",
              "\n",
              "       [[66, 46, 47],\n",
              "        [61, 41, 42],\n",
              "        [58, 38, 39],\n",
              "        ...,\n",
              "        [58, 24, 22],\n",
              "        [59, 25, 23],\n",
              "        [62, 28, 26]],\n",
              "\n",
              "       ...,\n",
              "\n",
              "       [[44, 25, 29],\n",
              "        [44, 25, 29],\n",
              "        [45, 26, 30],\n",
              "        ...,\n",
              "        [49, 39, 29],\n",
              "        [49, 39, 29],\n",
              "        [49, 39, 29]],\n",
              "\n",
              "       [[45, 26, 30],\n",
              "        [44, 25, 29],\n",
              "        [45, 26, 30],\n",
              "        ...,\n",
              "        [46, 36, 26],\n",
              "        [49, 39, 29],\n",
              "        [51, 41, 31]],\n",
              "\n",
              "       [[52, 33, 37],\n",
              "        [51, 32, 36],\n",
              "        [50, 31, 35],\n",
              "        ...,\n",
              "        [43, 33, 23],\n",
              "        [48, 38, 28],\n",
              "        [53, 43, 33]]], dtype=uint8)"
            ]
          },
          "metadata": {},
          "execution_count": 21
        }
      ]
    },
    {
      "cell_type": "code",
      "source": [
        "# convert the img to tensors\n",
        "import tensorflow as tf\n",
        "tf.constant(img)"
      ],
      "metadata": {
        "colab": {
          "base_uri": "https://localhost:8080/"
        },
        "id": "dWR9JkWII40Y",
        "outputId": "7e9498a8-63e6-49bd-9ad4-3f9068a00490"
      },
      "execution_count": 22,
      "outputs": [
        {
          "output_type": "execute_result",
          "data": {
            "text/plain": [
              "<tf.Tensor: shape=(2448, 3264, 3), dtype=uint8, numpy=\n",
              "array([[[57, 37, 38],\n",
              "        [61, 41, 42],\n",
              "        [63, 43, 44],\n",
              "        ...,\n",
              "        [60, 26, 24],\n",
              "        [65, 31, 29],\n",
              "        [70, 36, 34]],\n",
              "\n",
              "       [[67, 47, 48],\n",
              "        [66, 46, 47],\n",
              "        [64, 44, 45],\n",
              "        ...,\n",
              "        [53, 19, 17],\n",
              "        [56, 22, 20],\n",
              "        [60, 26, 24]],\n",
              "\n",
              "       [[66, 46, 47],\n",
              "        [61, 41, 42],\n",
              "        [58, 38, 39],\n",
              "        ...,\n",
              "        [58, 24, 22],\n",
              "        [59, 25, 23],\n",
              "        [62, 28, 26]],\n",
              "\n",
              "       ...,\n",
              "\n",
              "       [[44, 25, 29],\n",
              "        [44, 25, 29],\n",
              "        [45, 26, 30],\n",
              "        ...,\n",
              "        [49, 39, 29],\n",
              "        [49, 39, 29],\n",
              "        [49, 39, 29]],\n",
              "\n",
              "       [[45, 26, 30],\n",
              "        [44, 25, 29],\n",
              "        [45, 26, 30],\n",
              "        ...,\n",
              "        [46, 36, 26],\n",
              "        [49, 39, 29],\n",
              "        [51, 41, 31]],\n",
              "\n",
              "       [[52, 33, 37],\n",
              "        [51, 32, 36],\n",
              "        [50, 31, 35],\n",
              "        ...,\n",
              "        [43, 33, 23],\n",
              "        [48, 38, 28],\n",
              "        [53, 43, 33]]], dtype=uint8)>"
            ]
          },
          "metadata": {},
          "execution_count": 22
        }
      ]
    },
    {
      "cell_type": "markdown",
      "source": [
        "The the values in the img tensor are between 0 and 255. It is the possible range for red, green and blue values.\n",
        "\n",
        "For an example, the first element 24, 18, 18 gives the ![image.png](data:image/png;base64,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)\n",
        "\n",
        "\n",
        "**We should normalize the values before pass them to ML algorithms as normalized pixel values**\n"
      ],
      "metadata": {
        "id": "QaQhX6vF3Lzp"
      }
    },
    {
      "cell_type": "code",
      "source": [
        "# Get all the pixel values between 0 & 1\n",
        "img/255. "
      ],
      "metadata": {
        "colab": {
          "base_uri": "https://localhost:8080/"
        },
        "id": "1EI1lG_e2rqk",
        "outputId": "8a8ea5d6-affd-4ff5-fa47-7a519bb706e5"
      },
      "execution_count": 23,
      "outputs": [
        {
          "output_type": "execute_result",
          "data": {
            "text/plain": [
              "array([[[0.22352941, 0.14509804, 0.14901961],\n",
              "        [0.23921569, 0.16078431, 0.16470588],\n",
              "        [0.24705882, 0.16862745, 0.17254902],\n",
              "        ...,\n",
              "        [0.23529412, 0.10196078, 0.09411765],\n",
              "        [0.25490196, 0.12156863, 0.11372549],\n",
              "        [0.2745098 , 0.14117647, 0.13333333]],\n",
              "\n",
              "       [[0.2627451 , 0.18431373, 0.18823529],\n",
              "        [0.25882353, 0.18039216, 0.18431373],\n",
              "        [0.25098039, 0.17254902, 0.17647059],\n",
              "        ...,\n",
              "        [0.20784314, 0.0745098 , 0.06666667],\n",
              "        [0.21960784, 0.08627451, 0.07843137],\n",
              "        [0.23529412, 0.10196078, 0.09411765]],\n",
              "\n",
              "       [[0.25882353, 0.18039216, 0.18431373],\n",
              "        [0.23921569, 0.16078431, 0.16470588],\n",
              "        [0.22745098, 0.14901961, 0.15294118],\n",
              "        ...,\n",
              "        [0.22745098, 0.09411765, 0.08627451],\n",
              "        [0.23137255, 0.09803922, 0.09019608],\n",
              "        [0.24313725, 0.10980392, 0.10196078]],\n",
              "\n",
              "       ...,\n",
              "\n",
              "       [[0.17254902, 0.09803922, 0.11372549],\n",
              "        [0.17254902, 0.09803922, 0.11372549],\n",
              "        [0.17647059, 0.10196078, 0.11764706],\n",
              "        ...,\n",
              "        [0.19215686, 0.15294118, 0.11372549],\n",
              "        [0.19215686, 0.15294118, 0.11372549],\n",
              "        [0.19215686, 0.15294118, 0.11372549]],\n",
              "\n",
              "       [[0.17647059, 0.10196078, 0.11764706],\n",
              "        [0.17254902, 0.09803922, 0.11372549],\n",
              "        [0.17647059, 0.10196078, 0.11764706],\n",
              "        ...,\n",
              "        [0.18039216, 0.14117647, 0.10196078],\n",
              "        [0.19215686, 0.15294118, 0.11372549],\n",
              "        [0.2       , 0.16078431, 0.12156863]],\n",
              "\n",
              "       [[0.20392157, 0.12941176, 0.14509804],\n",
              "        [0.2       , 0.1254902 , 0.14117647],\n",
              "        [0.19607843, 0.12156863, 0.1372549 ],\n",
              "        ...,\n",
              "        [0.16862745, 0.12941176, 0.09019608],\n",
              "        [0.18823529, 0.14901961, 0.10980392],\n",
              "        [0.20784314, 0.16862745, 0.12941176]]])"
            ]
          },
          "metadata": {},
          "execution_count": 23
        }
      ]
    },
    {
      "cell_type": "markdown",
      "source": [
        "# Building a convolutional neural network\n",
        "\n",
        "\n",
        "\n",
        "*   Load all the images\n",
        "*   Preprocess / normalize the images\n",
        "*   Build a CNN to find patterns in the images\n",
        "*   Compile our CNN\n",
        "*   Fit the CNN to our training data\n",
        "\n"
      ],
      "metadata": {
        "id": "_PBpgTjULPyK"
      }
    },
    {
      "cell_type": "code",
      "source": [
        "from tensorflow.keras.preprocessing.image import ImageDataGenerator\n",
        "\n",
        "# Set the seed\n",
        "tf.random.set_seed(42)\n",
        "\n",
        "# Preprocess data (get all of the pixel values between 1 and 0)\n",
        "train_data_generator = ImageDataGenerator(rescale=1./255) # Generates batches of tensor image data with real-time data augmentation\n",
        "valid_data_generator = ImageDataGenerator(rescale=1./255)\n",
        "\n",
        "# Setup the train and test directories\n",
        "train_dir = \"lesion-diagnosis/images/train/\"\n",
        "test_dir = \"lesion-diagnosis/images/test/\"\n",
        "\n",
        "# Import data from directories and turn it into batches\n",
        "# It will create the data and lables automatically for us\n",
        "train_data = train_data_generator.flow_from_directory(train_dir,\n",
        "                                               batch_size=32, # number of images to process at a time \n",
        "                                               target_size=(180, 180), # convert all images to be 224 x 224\n",
        "                                               class_mode=\"binary\", # we're working on binary data\n",
        "                                               seed=42)\n",
        "\n",
        "valid_data = valid_data_generator.flow_from_directory(test_dir,\n",
        "                                               batch_size=32,\n",
        "                                               target_size=(180, 180),\n",
        "                                               class_mode=\"binary\",\n",
        "                                               seed=42)"
      ],
      "metadata": {
        "colab": {
          "base_uri": "https://localhost:8080/"
        },
        "id": "Ow3XK-sw6snd",
        "outputId": "b93c1783-17a8-4ca7-effa-07807502daf8"
      },
      "execution_count": 28,
      "outputs": [
        {
          "output_type": "stream",
          "name": "stdout",
          "text": [
            "Found 4790 images belonging to 6 classes.\n",
            "Found 1120 images belonging to 6 classes.\n"
          ]
        }
      ]
    },
    {
      "cell_type": "code",
      "source": [
        "train_data, valid_data"
      ],
      "metadata": {
        "colab": {
          "base_uri": "https://localhost:8080/"
        },
        "id": "g-PZtQulNhH7",
        "outputId": "bc3b0277-4b5a-429a-a088-b5bff67fc143"
      },
      "execution_count": 29,
      "outputs": [
        {
          "output_type": "execute_result",
          "data": {
            "text/plain": [
              "(<keras.preprocessing.image.DirectoryIterator at 0x7fec5443d390>,\n",
              " <keras.preprocessing.image.DirectoryIterator at 0x7fecd07dd190>)"
            ]
          },
          "metadata": {},
          "execution_count": 29
        }
      ]
    },
    {
      "cell_type": "markdown",
      "source": [
        "# Build a CNN model"
      ],
      "metadata": {
        "id": "LDJHEhmuO8xM"
      }
    },
    {
      "cell_type": "code",
      "source": [
        "model_1 = tf.keras.models.Sequential([\n",
        "  tf.keras.layers.Conv2D(filters=10, \n",
        "                         kernel_size=3, # can also be (3, 3)\n",
        "                         activation=\"relu\", \n",
        "                         input_shape=(180, 180, 3)), # first layer specifies input shape (height, width, colour channels)\n",
        "  tf.keras.layers.Conv2D(10, 3, activation=\"relu\"),\n",
        "  tf.keras.layers.MaxPool2D(pool_size=2, # pool_size can also be (2, 2)\n",
        "                            padding=\"valid\"), # padding can also be 'same'\n",
        "  tf.keras.layers.Conv2D(10, 3, activation=\"relu\"),\n",
        "  tf.keras.layers.Conv2D(10, 3, activation=\"relu\"), # activation='relu' == tf.keras.layers.Activations(tf.nn.relu)\n",
        "  tf.keras.layers.MaxPool2D(2),\n",
        "  tf.keras.layers.Flatten(),\n",
        "  tf.keras.layers.Dense(1, activation=\"sigmoid\") # binary activation output\n",
        "])\n"
      ],
      "metadata": {
        "id": "xKDfwK1ENfat"
      },
      "execution_count": 33,
      "outputs": []
    },
    {
      "cell_type": "markdown",
      "source": [
        "# Compile the model & Fit"
      ],
      "metadata": {
        "id": "ts64po8iP3lh"
      }
    },
    {
      "cell_type": "code",
      "source": [
        "# Compile the model\n",
        "model_1.compile(loss=\"binary_crossentropy\",\n",
        "              optimizer=tf.keras.optimizers.Adam(),\n",
        "              metrics=[\"accuracy\"])\n",
        "\n",
        "# Fit the model\n",
        "history_1 = model_1.fit(train_data,\n",
        "                        epochs=5,\n",
        "                        steps_per_epoch=len(train_data),\n",
        "                        validation_data=valid_data,\n",
        "                        validation_steps=len(valid_data))"
      ],
      "metadata": {
        "colab": {
          "base_uri": "https://localhost:8080/"
        },
        "id": "o70pg3F7P5RI",
        "outputId": "7893d05b-2f12-494d-d491-2a71d634dbe8"
      },
      "execution_count": 34,
      "outputs": [
        {
          "output_type": "stream",
          "name": "stdout",
          "text": [
            "Epoch 1/5\n",
            "150/150 [==============================] - 239s 2s/step - loss: -12629614.0000 - accuracy: 0.1670 - val_loss: -122099200.0000 - val_accuracy: 0.1786\n",
            "Epoch 2/5\n",
            "150/150 [==============================] - 224s 1s/step - loss: -3379097856.0000 - accuracy: 0.1670 - val_loss: -14204474368.0000 - val_accuracy: 0.1786\n",
            "Epoch 3/5\n",
            "150/150 [==============================] - 226s 2s/step - loss: -62026375168.0000 - accuracy: 0.1670 - val_loss: -166286589952.0000 - val_accuracy: 0.1786\n",
            "Epoch 4/5\n",
            "150/150 [==============================] - 225s 2s/step - loss: -392167096320.0000 - accuracy: 0.1670 - val_loss: -822897868800.0000 - val_accuracy: 0.1786\n",
            "Epoch 5/5\n",
            "150/150 [==============================] - 226s 2s/step - loss: -1481435381760.0000 - accuracy: 0.1670 - val_loss: -2684465184768.0000 - val_accuracy: 0.1786\n"
          ]
        }
      ]
    },
    {
      "cell_type": "code",
      "source": [
        "# Check out the layers in our model\n",
        "model_1.summary()"
      ],
      "metadata": {
        "colab": {
          "base_uri": "https://localhost:8080/"
        },
        "id": "QRWbTYM-Fvm6",
        "outputId": "18312a71-c7e3-484e-f1e5-d5c1ac5a1573"
      },
      "execution_count": 35,
      "outputs": [
        {
          "output_type": "stream",
          "name": "stdout",
          "text": [
            "Model: \"sequential_2\"\n",
            "_________________________________________________________________\n",
            " Layer (type)                Output Shape              Param #   \n",
            "=================================================================\n",
            " conv2d_8 (Conv2D)           (None, 178, 178, 10)      280       \n",
            "                                                                 \n",
            " conv2d_9 (Conv2D)           (None, 176, 176, 10)      910       \n",
            "                                                                 \n",
            " max_pooling2d_4 (MaxPooling  (None, 88, 88, 10)       0         \n",
            " 2D)                                                             \n",
            "                                                                 \n",
            " conv2d_10 (Conv2D)          (None, 86, 86, 10)        910       \n",
            "                                                                 \n",
            " conv2d_11 (Conv2D)          (None, 84, 84, 10)        910       \n",
            "                                                                 \n",
            " max_pooling2d_5 (MaxPooling  (None, 42, 42, 10)       0         \n",
            " 2D)                                                             \n",
            "                                                                 \n",
            " flatten_2 (Flatten)         (None, 17640)             0         \n",
            "                                                                 \n",
            " dense_2 (Dense)             (None, 1)                 17641     \n",
            "                                                                 \n",
            "=================================================================\n",
            "Total params: 20,651\n",
            "Trainable params: 20,651\n",
            "Non-trainable params: 0\n",
            "_________________________________________________________________\n"
          ]
        }
      ]
    }
  ]
}